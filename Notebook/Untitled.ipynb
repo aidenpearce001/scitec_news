{
 "cells": [
  {
   "cell_type": "code",
   "execution_count": 4,
   "id": "34d52f30",
   "metadata": {},
   "outputs": [],
   "source": [
    "import json, requests\n",
    "from bs4 import BeautifulSoup\n",
    "from datetime import datetime, timedelta\n",
    "\n",
    "import feedparser\n",
    "# from markdownify import markdownify"
   ]
  },
  {
   "cell_type": "code",
   "execution_count": 5,
   "id": "2bbc7743",
   "metadata": {},
   "outputs": [],
   "source": [
    "nature_url = \"https://www.nature.com\"\n",
    "subject_url = nature_url + \"/search?article_type=research, reviews, protocols&subject={}&date_range=last_7_days&order=date_desc\""
   ]
  },
  {
   "cell_type": "code",
   "execution_count": 3,
   "id": "f3fe9d33",
   "metadata": {},
   "outputs": [],
   "source": [
    "subjects = [\"Physics\", \"Chemistry\", \"Engineering\", \"Materials science\", \n",
    "    \"Energy science and technology\", \"Mathematics and computing\", \"Astronomy and planetary science\", \n",
    "    \"Business and industry\", \"Energy and society\", \"Geography\", \"Science\", \"technology and society\", \n",
    "    \"Social policy\", \"Politics and international relations\",\"Computational biology and bioinformatics\", \n",
    "    \"Chemical biology, Biotechnology\", \"Information systems and information technology\", \"Computer science\", \n",
    "    \"Machine learning\", \"Image processing\", \"Signal processing\"]\n",
    "\n",
    "subjects = [i.lower().replace(\" \",\"-\") for i in subjects]"
   ]
  },
  {
   "cell_type": "code",
   "execution_count": 6,
   "id": "a791f536",
   "metadata": {},
   "outputs": [
    {
     "data": {
      "text/plain": [
       "datetime.datetime(2023, 3, 20, 0, 0)"
      ]
     },
     "execution_count": 6,
     "metadata": {},
     "output_type": "execute_result"
    }
   ],
   "source": [
    "date_str = \"20 March 2023\"\n",
    "date_obj = datetime.strptime(date_str, '%d %B %Y')\n",
    "date_obj"
   ]
  },
  {
   "cell_type": "code",
   "execution_count": 7,
   "id": "08430961",
   "metadata": {},
   "outputs": [],
   "source": [
    "r = requests.request(\"GET\", subject_url.format(\"biochemistry\"))\n",
    "soup = BeautifulSoup(r.content, \"html.parser\")"
   ]
  },
  {
   "cell_type": "code",
   "execution_count": 53,
   "id": "f07f4579",
   "metadata": {},
   "outputs": [
    {
     "data": {
      "text/plain": [
       "'/articles/s41467-023-37281-7'"
      ]
     },
     "execution_count": 53,
     "metadata": {},
     "output_type": "execute_result"
    }
   ],
   "source": [
    "soup.find(\"a\",{\"class\":\"c-card__link u-link-inherit\"})[\"href\"]"
   ]
  },
  {
   "cell_type": "code",
   "execution_count": 60,
   "id": "27e55f45",
   "metadata": {},
   "outputs": [],
   "source": [
    "url = nature_url+soup.find(\"a\",{\"class\":\"c-card__link u-link-inherit\"})[\"href\"]\n",
    "r = requests.request(\"GET\", url)\n",
    "soup = BeautifulSoup(r.content, \"html.parser\")"
   ]
  },
  {
   "cell_type": "code",
   "execution_count": 63,
   "id": "03b4dc8e",
   "metadata": {},
   "outputs": [],
   "source": [
    "soup.find(\"div\", {\"class\": \"c-article-body main-content\"})"
   ]
  },
  {
   "cell_type": "code",
   "execution_count": 35,
   "id": "2c7d5340",
   "metadata": {},
   "outputs": [],
   "source": [
    "def summerize(text : str):\n",
    "    \n",
    "    payload = {\n",
    "    \"input\" : {\n",
    "        \"text\":text,\n",
    "        \"min_length\" : 300,\n",
    "        \"max_length\" : 500\n",
    "        }\n",
    "    }\n",
    "\n",
    "    headers = {'Content-type': 'application/json', 'Accept': 'text/plain'}\n",
    "\n",
    "    r = requests.post(\"http://localhost:5000/predictions\", data=json.dumps(payload), headers=headers).json()\n",
    "    \n",
    "    return r[\"output\"][0][\"summary_text\"]"
   ]
  },
  {
   "cell_type": "code",
   "execution_count": 36,
   "id": "c953b07b",
   "metadata": {},
   "outputs": [],
   "source": [
    "def translate(text : str):\n",
    "    \n",
    "    payload = {\n",
    "    \"input\" : {\n",
    "        \"inputs\":text\n",
    "        }\n",
    "    }\n",
    "\n",
    "    headers = {'Content-type': 'application/json', 'Accept': 'text/plain'}\n",
    "\n",
    "    r = requests.post(\"http://localhost:5001/predictions\", data=json.dumps(payload), headers=headers).json()\n",
    "    \n",
    "    return r[\"output\"]"
   ]
  },
  {
   "cell_type": "code",
   "execution_count": 8,
   "id": "a106ad32",
   "metadata": {},
   "outputs": [],
   "source": [
    "def news_content(url: str) -> str:\n",
    "    \n",
    "    r = requests.request(\"GET\", url)\n",
    "    soup = BeautifulSoup(r.content, \"html.parser\")\n",
    "    \n",
    "    if soup.find(\"div\", {\"class\": \"c-article-body main-content\"}):\n",
    "        \n",
    "        field = ','.join([i.lower() for i in soup.find(\"ul\",{\"class\":\"c-article-subjects u-clearfix u-hide-print\"}).text.strip().split(\"\\n\\n\\n\")])\n",
    "        \n",
    "        html_content = soup.find(\"div\",{\"class\":\"c-article-body main-content\"})\n",
    "        soup.find(\"figcaption\").decompose()\n",
    "        \n",
    "        content = html_content.text\n",
    "        img_link = \"https:\" + soup.find(\"figure\",{\"class\":\"figure\"}).img[\"src\"]\n",
    "        \n",
    "        return field, content, img_link\n",
    "        \n",
    "    return None"
   ]
  },
  {
   "cell_type": "code",
   "execution_count": 37,
   "id": "08e0e43c",
   "metadata": {},
   "outputs": [],
   "source": [
    "def one_week_articles() -> list:\n",
    "\n",
    "    articles = list()\n",
    "    \n",
    "    nature_rss = feedparser.parse(\"https://www.nature.com/nature.rss\")\n",
    "    \n",
    "    for item in nature_rss[\"entries\"]:\n",
    "        \n",
    "        try:\n",
    "            \n",
    "            article_link = item[\"id\"]\n",
    "        \n",
    "            article_date = datetime.strptime(item[\"updated\"], '%Y-%m-%d') \n",
    "\n",
    "            if (datetime.today() - timedelta(weeks=1)) < article_date < datetime.today():\n",
    "\n",
    "                _data = news_content(article_link)\n",
    "                field, _content, img_link = _data\n",
    "\n",
    "                if _data is not None:\n",
    "\n",
    "                    article = {}\n",
    "\n",
    "                    article[\"title\"] = translate(item[\"title\"])\n",
    "                    article[\"summary\"] = item[\"summary\"]\n",
    "\n",
    "                    article[\"field\"] = field\n",
    "                    article[\"content\"] = translate(summerize(_content))\n",
    "                    article[\"img_link\"] = img_link\n",
    "\n",
    "                    articles.append(article)\n",
    "        except Exception as Error:\n",
    "            \n",
    "            print(f\"Cant not scarpe { article_link } due to - {Error}\")\n",
    "\n",
    "    return articles"
   ]
  },
  {
   "cell_type": "code",
   "execution_count": 38,
   "id": "f1bdac12",
   "metadata": {},
   "outputs": [
    {
     "name": "stdout",
     "output_type": "stream",
     "text": [
      "Cant not scarpe https://www.nature.com/articles/d41586-023-00844-1 due to - cannot unpack non-iterable NoneType object\n",
      "Cant not scarpe https://www.nature.com/articles/d41586-023-00845-0 due to - cannot unpack non-iterable NoneType object\n",
      "Cant not scarpe https://www.nature.com/articles/d41586-023-00843-2 due to - cannot unpack non-iterable NoneType object\n",
      "Cant not scarpe https://www.nature.com/articles/d41586-023-00710-0 due to - cannot unpack non-iterable NoneType object\n",
      "Cant not scarpe https://www.nature.com/articles/d41586-023-00708-8 due to - cannot unpack non-iterable NoneType object\n",
      "Cant not scarpe https://www.nature.com/articles/s41586-023-05950-8 due to - cannot unpack non-iterable NoneType object\n",
      "Cant not scarpe https://www.nature.com/articles/s41586-023-05958-0 due to - cannot unpack non-iterable NoneType object\n",
      "Cant not scarpe https://www.nature.com/articles/d41586-023-00799-3 due to - cannot unpack non-iterable NoneType object\n",
      "Cant not scarpe https://www.nature.com/articles/d41586-023-00853-0 due to - 'NoneType' object has no attribute 'text'\n",
      "Cant not scarpe https://www.nature.com/articles/d41586-023-00776-w due to - cannot unpack non-iterable NoneType object\n",
      "Cant not scarpe https://www.nature.com/articles/d41586-023-00774-y due to - cannot unpack non-iterable NoneType object\n",
      "Cant not scarpe https://www.nature.com/articles/d41586-023-00839-y due to - 'NoneType' object has no attribute 'text'\n",
      "Cant not scarpe https://www.nature.com/articles/d41586-023-00742-6 due to - 'NoneType' object has no attribute 'text'\n",
      "Cant not scarpe https://www.nature.com/articles/s41586-023-05932-w due to - cannot unpack non-iterable NoneType object\n",
      "Cant not scarpe https://www.nature.com/articles/d41586-023-00775-x due to - cannot unpack non-iterable NoneType object\n",
      "Cant not scarpe https://www.nature.com/articles/s41586-023-05799-x due to - cannot unpack non-iterable NoneType object\n",
      "Cant not scarpe https://www.nature.com/articles/d41586-023-00762-2 due to - 'NoneType' object has no attribute 'text'\n",
      "Cant not scarpe https://www.nature.com/articles/d41586-023-00829-0 due to - 'NoneType' object has no attribute 'text'\n",
      "Cant not scarpe https://www.nature.com/articles/s41586-023-05929-5 due to - cannot unpack non-iterable NoneType object\n",
      "Cant not scarpe https://www.nature.com/articles/s41586-023-05756-8 due to - cannot unpack non-iterable NoneType object\n",
      "Cant not scarpe https://www.nature.com/articles/s41586-023-05939-3 due to - cannot unpack non-iterable NoneType object\n",
      "Cant not scarpe https://www.nature.com/articles/d41586-023-00785-9 due to - 'NoneType' object has no attribute 'decompose'\n",
      "Cant not scarpe https://www.nature.com/articles/s41586-023-05719-z due to - cannot unpack non-iterable NoneType object\n",
      "Cant not scarpe https://www.nature.com/articles/s41586-023-05757-7 due to - cannot unpack non-iterable NoneType object\n",
      "Cant not scarpe https://www.nature.com/articles/s41586-023-05798-y due to - cannot unpack non-iterable NoneType object\n",
      "Cant not scarpe https://www.nature.com/articles/s41586-023-05812-3 due to - cannot unpack non-iterable NoneType object\n",
      "Cant not scarpe https://www.nature.com/articles/s41586-023-05831-0 due to - cannot unpack non-iterable NoneType object\n",
      "Cant not scarpe https://www.nature.com/articles/s41586-023-05800-7 due to - cannot unpack non-iterable NoneType object\n",
      "Cant not scarpe https://www.nature.com/articles/s41586-023-05824-z due to - cannot unpack non-iterable NoneType object\n",
      "Cant not scarpe https://www.nature.com/articles/s41586-023-05794-2 due to - cannot unpack non-iterable NoneType object\n",
      "Cant not scarpe https://www.nature.com/articles/s41586-023-05834-x due to - cannot unpack non-iterable NoneType object\n",
      "Cant not scarpe https://www.nature.com/articles/s41586-023-05733-1 due to - cannot unpack non-iterable NoneType object\n",
      "Cant not scarpe https://www.nature.com/articles/s41586-023-05801-6 due to - cannot unpack non-iterable NoneType object\n",
      "Cant not scarpe https://www.nature.com/articles/s41586-023-05721-5 due to - cannot unpack non-iterable NoneType object\n",
      "Cant not scarpe https://www.nature.com/articles/s41586-023-05792-4 due to - cannot unpack non-iterable NoneType object\n",
      "Cant not scarpe https://www.nature.com/articles/s41586-023-05724-2 due to - cannot unpack non-iterable NoneType object\n",
      "Cant not scarpe https://www.nature.com/articles/s41586-022-05679-w due to - cannot unpack non-iterable NoneType object\n",
      "Cant not scarpe https://www.nature.com/articles/s41586-023-05795-1 due to - cannot unpack non-iterable NoneType object\n",
      "Cant not scarpe https://www.nature.com/articles/s41586-022-05686-x due to - cannot unpack non-iterable NoneType object\n",
      "Cant not scarpe https://www.nature.com/articles/s41586-022-05665-2 due to - cannot unpack non-iterable NoneType object\n",
      "Cant not scarpe https://www.nature.com/articles/s41586-023-05790-6 due to - cannot unpack non-iterable NoneType object\n",
      "Cant not scarpe https://www.nature.com/articles/s41586-023-05828-9 due to - cannot unpack non-iterable NoneType object\n",
      "Cant not scarpe https://www.nature.com/articles/s41586-023-05755-9 due to - cannot unpack non-iterable NoneType object\n",
      "Cant not scarpe https://www.nature.com/articles/s41586-023-05793-3 due to - cannot unpack non-iterable NoneType object\n",
      "Cant not scarpe https://www.nature.com/articles/d41586-023-00698-7 due to - 'NoneType' object has no attribute 'text'\n",
      "Cant not scarpe https://www.nature.com/articles/d41586-023-00439-w due to - cannot unpack non-iterable NoneType object\n",
      "Cant not scarpe https://www.nature.com/articles/d41586-023-00705-x due to - cannot unpack non-iterable NoneType object\n",
      "Cant not scarpe https://www.nature.com/articles/d41586-023-00755-1 due to - cannot unpack non-iterable NoneType object\n",
      "Cant not scarpe https://www.nature.com/articles/d41586-023-00317-5 due to - cannot unpack non-iterable NoneType object\n",
      "Cant not scarpe https://www.nature.com/articles/d41586-023-00746-2 due to - 'NoneType' object has no attribute 'text'\n",
      "Cant not scarpe https://www.nature.com/articles/d41586-023-00814-7 due to - 'NoneType' object has no attribute 'text'\n",
      "Cant not scarpe https://www.nature.com/articles/d41586-023-00706-w due to - cannot unpack non-iterable NoneType object\n",
      "Cant not scarpe https://www.nature.com/articles/d41586-023-00426-1 due to - cannot unpack non-iterable NoneType object\n"
     ]
    }
   ],
   "source": [
    "data = one_week_articles()"
   ]
  },
  {
   "cell_type": "code",
   "execution_count": null,
   "id": "8ac7d57d",
   "metadata": {},
   "outputs": [],
   "source": [
    "len(data)"
   ]
  },
  {
   "cell_type": "code",
   "execution_count": 11,
   "id": "c6bc78c6",
   "metadata": {},
   "outputs": [
    {
     "ename": "NameError",
     "evalue": "name 'data' is not defined",
     "output_type": "error",
     "traceback": [
      "\u001b[0;31m---------------------------------------------------------------------------\u001b[0m",
      "\u001b[0;31mNameError\u001b[0m                                 Traceback (most recent call last)",
      "Cell \u001b[0;32mIn[11], line 1\u001b[0m\n\u001b[0;32m----> 1\u001b[0m \u001b[43mdata\u001b[49m\n",
      "\u001b[0;31mNameError\u001b[0m: name 'data' is not defined"
     ]
    }
   ],
   "source": [
    "data"
   ]
  },
  {
   "cell_type": "code",
   "execution_count": 15,
   "id": "bf398f43",
   "metadata": {},
   "outputs": [],
   "source": [
    "text  = \"\"\"\\nLast October, the pioneering life-sciences journal eLife introduced bold changes to its editorial practice — which some researchers applauded as reimagining the purpose of a scientific journal. From 31 January this year, eLife said, it would publish every paper it sent out for peer review: authors would never again receive a rejection after a negative review. Instead, reviewers’ reports would be published alongside the paper, together with a short editorial assessment of the work’s significance and rigour. Authors could then decide whether to revise their paper to address any comments.The change followed an earlier decision by eLife to require that all submissions be posted as preprints online. The cumulative effect was to turn eLife into a producer of public reviews and assessments about online research. It was “relinquishing the traditional journal role of gatekeeper”, editor-in-chief Michael Eisen explained in a press release, and “promoting the evaluation of scientists based on what, rather than where, they publish”.\\n\\n\\n\\n\\n\\nThe transformation sparked enthusiastic praise — and sharp criticism. Some scientists saw it as a long-overdue move to empower authors. Others, including some of eLife’s academic editors (who are mostly senior researchers), weren’t so happy. They worried it would diminish the prestige of a brand they’d worked hard to build, and some wrote privately to Eisen (in letters seen by Nature) to say they would resign if the plan was fully implemented. Amid the pushback, the journal postponed switching fully to its new process.But the dispute only heightened. On 9 March, 29 eLife editors — including the journal’s former editor-in-chief, Randy Schekman — wrote to Damian Pattinson, executive director of the journal’s non-profit publisher, eLife Sciences Publications in Cambridge, UK, asking that Eisen be replaced “immediately”. They added that they had no confidence in Eisen’s leadership, because he had dismissed their concerns and had not considered compromise positions. One of the journal’s five deputy editors had already stepped down from that leadership position, and “significant numbers” of reviewers and senior editors were “standing ready to resign”, they wrote.Eisen, a Howard Hughes Medical Institute (HHMI) investigator who works at the University of California, Berkeley, fired back publicly online, tweeting on 12 March that academics were “lobbying hard to get me fired”. He later deleted the tweet, but told Nature in an interview that “opposition to eLife’s model is driven fundamentally by powerful scientists not wanting to change a system that has benefited them and which they have sculpted to continue to reward them”. In response, Schekman and other authors stated that Eisen’s comments were “not true and do not reflect our legitimate concerns with the new model at eLife”.Eisen says he thinks the dissent is small in scale. He and Pattinson say they did not dismiss concerns, but consulted on changes over two years with editors. “We see big swathes of enthusiasm among the community,” Pattinson adds.The row highlights disagreements among researchers about the function of journals and peer review — and, potentially, about the future of science publishing. Some eLife editors argue that journals should use review to guide filtering and rejection of papers. But supporters of eLife’s changes see benefit in preventing peer review from serving as a prestige-gathering function, in which, by rejecting most of the manuscripts submitted to them, selective journals become perceived as arbiters of what work matters. “We rely too much on journal titles in judging people’s work,” Eisen says. “If we want to fix a bad system, we do have to break some eggs.”What is a journal’s purpose?When eLife was launched in 2012 with the financial backing of three powerful science funders — the Maryland-based HHMI, the UK Wellcome Trust and Germany’s Max Planck Society — it had the aim of being a non-commercial and academic-edited journal that would rival prestigious titles such as Cell, Nature and Science. (Nature’s news team is editorially independent of the journal’s research team.) Besides being open access, another of its key innovations was a collaborative system of peer review, where referees and a handling editor discuss comments together. The journal attracted dozens of working scientists as editors who triage submissions, with hundreds more scientists as reviewing editors.\\n\\nOpen-access journal eLife announces ‘preprint first’ publishing model\\neLife had its eye on bigger changes, however. In 2021, the journal decided to publish only papers that were already preprints. This meant that delays in reviewing wouldn’t hold up an author from sharing their work. But even before Eisen and Pattinson joined, the journal had run a trial with more than 300 manuscripts to test the idea of ditching rejection after review. Its aim was to simply publish papers with reviews, author responses and editorial ratings. “The peer-review process does not need to end with a binary outcome of acceptance or rejection,” the journal wrote in a 2019 analysis of that work.It was this idea that eLife instituted for all papers last October, with the addition that editors would also append a short summary assessment of the paper — giving readers a quick idea of its quality and significance. “This puts power back in the hands of the authors, who can then publish what they have, instead of having to do ever more experiments to satisfy reviewers,” says Eisen. The journal plans to charge US$2,000 for the process of arranging review on submissions; previously, its open-access publication fee was $3,000.Some eLife editors are fully on board with the new system. “It’s the future, where science is going,” says senior eLife editor Panayiota Poirazi, a neuroscientist at the Institute of Molecular Biology and Biotechnology in Heraklion, Crete. Among the journal’s funders, HHMI says it fully supports the new policy. Wellcome says that it supports eLife’s publishing process, and the Max Planck Society told Nature it was still discussing the issue.But other researchers have been openly critical from the start. In November, 47 editors wrote privately to Eisen asking for a rethink or for more time to experiment — perhaps running the new system alongside the conventional one, or creating a second journal in which to publish papers of less significance. They worried about harm to the journal’s collaborative open-reviewing process, and that the quality of papers on the eLife platform would drop. With no possibility of rejection, some authors might choose to ignore reviewer comments or only superficially address them, they wrote — and that knowledge might discourage reviewers from producing detailed critiques. Responding to these concerns, Eisen and Pattinson say that they haven’t seen such problems so far, although the project is in its early days, and that running two systems would reduce the chances of the new model’s success.Editors also argued that removing rejection-after-review meant more pressure on the gatekeeping step that remains in eLife’s system — the triage point where editors choose whether to send out a paper for review. That step had been “opaque and subject to errors in judgment”, their letter stated, an issue that would become more consequential if later negative reviews could no longer lead to rejection. Editors might react by becoming more conservative and decide not to take a chance on manuscripts from less-well-known authors. But Eisen says that, in the new system, sending a preprint for review shouldn’t communicate anything about its quality or importance: the reviews and editorial assessments do that instead. The guidance that editors should follow when deciding what to send for review is “can you generate high-quality and broadly useful public reviews of this paper?”, he says.\\n\\nWill the pandemic permanently alter scientific publishing?\\nIn some countries, hiring and promotion decisions still rely heavily on journal titles in candidates’ publication lists — something that is unlikely to change quickly, the editors added in their letter. They worried that scientists there would stop sending their manuscripts to eLife. Eisen, however, says that problematic reliance on journal titles will continue until there is an alternative system, such as eLife’s.In a further private letter sent to Eisen in January, 30 editors said they would resign once the new policy was fully implemented.The full scale of the discontent is unclear. Although Eisen and Pattinson say they’ve had broad support, Axel Brunger, a structural biologist at Stanford University in California, who initiated the first letter, says he reached out only to his colleagues in structural biology and neuroscience, and that nearly all agreed to sign up. “The concerns are widespread,” he says.One researcher who signed all three letters is neuroscientist Gary Westbrook at the Vollum Institute at Oregon Health & Science University in Portland. He is a vocal critic of what he sees as the monopoly that commercial journals have in science publishing, and says he signed “because I didn’t think the new policy was realistic”. Far from helping eLife as a non-profit, high-quality alternative, he says, he thinks the model will diminish its impact.Reviewing preprintsThe concept of reviewing preprints is catching on in the life sciences. At least two dozen preprint-refereeing initiatives of various sizes have been launched in the past few years. The largest (apart from eLife itself) is Review Commons, launched in December 2019 by the California-based non-profit organization ASAPbio and EMBO Press. The latter runs five journals and is part of the European Molecular Biology Organization in Heidelberg, Germany. As a review-sharing collaboration between 17 journals from 6 publishers, including eLife, Review Commons uses EMBO Press editors to select referees for submissions. Authors can ask Review Commons to post reviews and any further author responses on a preprint server, or they can submit their paper, with reviews and responses, to any journal. More than 2,000 reviews of 540 articles have been run through this system.The idea of ‘journal agnostic’ reviewing is still at proof-of-principle stage, says Bernd Pulverer, EMBO’s head of scientific publications. But he sees merit in having both peer-reviewed preprints and conventional journals, which, he says, provide “real added value in condensing and stratifying information”.That view is shared by Maria Leptin, president of the European Research Council. “If I want to learn about a new field that is not core to my own, then I want a trustworthy source that filters for general interest,” she says. “eLife now does its filtering upstream, in a non-transparent, unaccountable way.”The triage stage shouldn’t be seen as this kind of filter, says Eisen. “People are used to operating in a world where appearance in a journal tells you about the quality, audience or import of a study. This is precisely what we are trying to change,” he says. He argues that the short editorial summary eLife appends to its articles serve as quality guides for readers. They grade the significance of the findings (landmark, fundamental, important, valuable, useful) and assess the strength of their support (exceptional, compelling, convincing, solid, incomplete, inadequate).More consultation?Endocrinologist Mone Zaidi at Icahn School of Medicine at Mount Sinai, New York City, is one of eLife’s four remaining deputy editors and has been trying to mediate the issue. He admires Eisen’s vision, he says, “but any new, transformative change has to be done in a careful manner, with buy-in from the community”.Together with some of his colleagues, he is trying to persuade Eisen to slow down, to avoid mass resignations and to establish milestones to assess the effects the changes would have on the lives of working scientists. “There has to be consultation and risk-mitigation plans,” he says.The deputy editor who stood down, cell biologist Anna Akhmanova at the University of Utrecht in the Netherlands, shares Zaidi’s view. She says she helped to develop the new system, but stepped down as deputy editor because it was being pushed through too fast. “We need evolution, not revolution — many small, careful steps to try to move the community towards what would be a better publishing system,” she says.Eisen says he has already responded to concerns by extending — for a short time — the deadline for the regular reviewing system. “We expect things to evolve in interesting ways as people start to see the advantages and opportunities of not making publishing decisions.”“eLife is doing a big and interesting experiment, however it works out,” says stem-cell biologist Fiona Watt, a former eLife deputy editor who is now EMBO’s director. “My sense as a scientist is that the publishing landscape is changing again.\"\"\""
   ]
  },
  {
   "cell_type": "code",
   "execution_count": 17,
   "id": "f0f287dc",
   "metadata": {},
   "outputs": [],
   "source": [
    "payload = {\n",
    "    \"input\" : {\n",
    "        \"text\":text,\n",
    "        \"min_length\" : 300,\n",
    "        \"max_length\" : 500\n",
    "    }\n",
    "}\n",
    "\n",
    "headers = {'Content-type': 'application/json', 'Accept': 'text/plain'}\n",
    "\n",
    "r = requests.post(\"http://localhost:5000/predictions\", data=json.dumps(payload), headers=headers)"
   ]
  },
  {
   "cell_type": "code",
   "execution_count": 23,
   "id": "85ca5e69",
   "metadata": {},
   "outputs": [
    {
     "data": {
      "text/plain": [
       "\"Life-sciences journal eLife introduced bold changes to its editorial practice. Some researchers applauded it as reimagining the purpose of a scientific journal. Others, including some of eLife’s academic editors, weren’t so happy. The row highlights disagreements among researchers about the function of journals and peer review. Some eLife editors argue that journals should use review to guide filtering and rejection of papers. But supporters of the changes see benefit in preventing peer review from serving as a prestige-gathering function, in which selective journals become perceived as arbiters of what work matters. The journal postponed switching fully to its new process, but the dispute only heightened. The change followed an earlier decision by eLife to require that all submissions be posted as preprints online. It was “relinquishing the traditional journal role of gatekeeper”, editor-in-chief Michael Eisen explained in a press release, and “promoting the evaluation of scientists based on what, rather than where, they publish”. The new system would see reviewers’ reports published alongside the paper, together with a short editorial assessment of the work’S significance and rigour. Authors could then decide whether to revise their paper to address any comments. But the change was not fully implemented until 31 January this year, when eLife said, it would publish every paper it sent out for peer review: authors would never again receive a rejection after a negative review. In March, 29 e life editors wrote to Damian Pattinson, executive director of the journal's non-profit publisher, asking that Eisen be replaced “immediately’.\""
      ]
     },
     "execution_count": 23,
     "metadata": {},
     "output_type": "execute_result"
    }
   ],
   "source": [
    "r.json()[\"output\"][0][\"summary_text\"]"
   ]
  },
  {
   "cell_type": "code",
   "execution_count": 34,
   "id": "b9a7dec8",
   "metadata": {},
   "outputs": [
    {
     "data": {
      "text/plain": [
       "'Tạp chí eLife, một tạp chí khoa học đời sống eLife đã đưa ra những thay đổi táo bạo trong việc biên tập. Một số nhà nghiên cứu khen ngợi nó như là hình dung lại mục đích của một tạp chí khoa học. Những người khác, bao gồm một số biên tập viên học thuật của eLife, không vui vẻ lắm. Hàng này nêu bật những bất đồng giữa các nhà nghiên cứu về chức năng của tạp chí và bình duyệt. Một số biên tập viên eLife cho rằng các tạp chí nên sử dụng đánh giá để hướng dẫn lọc và từ chối bài báo. Nhưng những người ủng hộ những thay đổi này thấy lợi ích trong việc ngăn chặn bình duyệt đóng vai trò như một chức năng thu thập uy tín, trong đó các tạp chí chọn lọc trở nên được coi là những người phân xử về những gì công việc quan trọng. Tạp chí hoãn chuyển đổi hoàn toàn sang quy trình mới, nhưng tranh chấp chỉ tăng lên. Sự thay đổi này theo sau một quyết định trước đó của eLife yêu cầu tất cả các bài dự thi phải được đăng dưới dạng bản in sẵn trực tuyến. Đó là \"phục hồi vai trò của người gác cổng truyền thống của tạp chí truyền thống\", tổng biên tập Michael Eisen giải thích trong một thông cáo báo chí, và \"thúc đẩy việc đánh giá các nhà khoa học dựa trên những gì, chứ không phải là nơi họ xuất bản\". Hệ thống mới sẽ thấy các báo cáo của các nhà phê bình được xuất bản cùng với bài báo, cùng với một đánh giá biên tập ngắn về ý nghĩa và tính nghiêm ngặt của tác phẩm. Tác giả có thể quyết định xem có nên chỉnh sửa bài viết để giải quyết các ý kiến bình luận hay không. Nhưng sự thay đổi này vẫn chưa được thực hiện đầy đủ cho đến ngày 31 tháng 1 năm nay, khi eLife cho biết, họ sẽ xuất bản mọi bài báo được gửi đi để được bình duyệt: các tác giả sẽ không bao giờ bị từ chối sau một bài đánh giá tiêu cực nữa. Vào tháng 3, 29 biên tập viên e life đã viết thư cho Damian Pattinson, giám đốc điều hành của nhà xuất bản phi lợi nhuận của tạp chí, yêu cầu thay thế Eisen \"ngay lập tức\". The word \"...'"
      ]
     },
     "execution_count": 34,
     "metadata": {},
     "output_type": "execute_result"
    }
   ],
   "source": [
    "a = translate(r.json()[\"output\"][0][\"summary_text\"])\n",
    "a[\"output\"]"
   ]
  },
  {
   "cell_type": "code",
   "execution_count": 8,
   "id": "1e6af20b",
   "metadata": {},
   "outputs": [],
   "source": [
    "r = requests.get(\"https://www.nature.com/articles/d41586-023-00795-7\")\n",
    "soup = BeautifulSoup(r.content, \"html.parser\")"
   ]
  },
  {
   "cell_type": "code",
   "execution_count": 9,
   "id": "412843b7",
   "metadata": {},
   "outputs": [
    {
     "data": {
      "text/plain": [
       "['Careers', 'Physics', 'Nanoscience and technology']"
      ]
     },
     "execution_count": 9,
     "metadata": {},
     "output_type": "execute_result"
    }
   ],
   "source": [
    "soup.find(\"ul\",{\"class\":\"c-article-subjects u-clearfix u-hide-print\"}).text.strip().split(\"\\n\\n\\n\")"
   ]
  },
  {
   "cell_type": "code",
   "execution_count": 42,
   "id": "798d7060",
   "metadata": {},
   "outputs": [
    {
     "data": {
      "text/plain": [
       "'//media.nature.com/w767/magazine-assets/d41586-023-00795-7/d41586-023-00795-7_24630594.jpg'"
      ]
     },
     "execution_count": 42,
     "metadata": {},
     "output_type": "execute_result"
    }
   ],
   "source": [
    "soup.find(\"figure\",{\"class\":\"figure\"}).img[\"src\"]"
   ]
  },
  {
   "cell_type": "code",
   "execution_count": 26,
   "id": "b706430c",
   "metadata": {},
   "outputs": [],
   "source": [
    "_test_ls = [\n",
    "    \"https://www.nature.com/articles/d41586-023-00831-6\",\n",
    "    \"https://www.nature.com/articles/d41586-023-00818-3\",\n",
    "    \"https://www.nature.com/articles/d41586-023-00816-5\"\n",
    "]"
   ]
  },
  {
   "cell_type": "code",
   "execution_count": 100,
   "id": "74e62ee4",
   "metadata": {},
   "outputs": [
    {
     "data": {
      "text/plain": [
       "'//media.nature.com/lw767/magazine-assets/d41586-023-00831-6/d41586-023-00831-6_24636118.jpg'"
      ]
     },
     "execution_count": 100,
     "metadata": {},
     "output_type": "execute_result"
    }
   ],
   "source": [
    "soup.find(\"img\",{\"class\":\"figure__image\"})[\"src\"]"
   ]
  },
  {
   "cell_type": "code",
   "execution_count": 28,
   "id": "9def1a88",
   "metadata": {},
   "outputs": [],
   "source": [
    "lorem = \"\"\"Lorem Ipsum is simply dummy text of the printing and typesetting industry. Lorem Ipsum has been the industry's standard dummy text ever since the 1500s, when an unknown printer took a galley of type and scrambled it to make a type specimen book. It has survived not only five centuries, but also the leap into electronic typesetting, remaining essentially unchanged. It was popularised in the 1960s with the release of Letraset sheets containing Lorem Ipsum passages, and more recently with desktop publishing software like Aldus PageMaker including versions of Lorem Ipsum.\"\"\"\n",
    "\n",
    "articles = list()\n",
    "for link in _test_ls:\n",
    "    _data = article_content(link)\n",
    "            \n",
    "    if _data is not None:\n",
    "\n",
    "        article = {}\n",
    "\n",
    "        article[\"title\"] = \"Sample Title\"\n",
    "        article[\"summary\"] = lorem\n",
    "\n",
    "        _data = article_content(link)\n",
    "\n",
    "        field, _content, img_link = _data\n",
    "\n",
    "        article[\"field\"] = field\n",
    "        article[\"content\"] = _content\n",
    "        article[\"img_link\"] = img_link\n",
    "        \n",
    "        articles.append(article)"
   ]
  },
  {
   "cell_type": "code",
   "execution_count": 29,
   "id": "faddfa6e",
   "metadata": {},
   "outputs": [],
   "source": [
    "from jinja2 import Environment, FileSystemLoader"
   ]
  },
  {
   "cell_type": "code",
   "execution_count": 30,
   "id": "5bf6bf75",
   "metadata": {},
   "outputs": [
    {
     "data": {
      "text/plain": [
       "[{'title': 'Sample Title',\n",
       "  'summary': \"Lorem Ipsum is simply dummy text of the printing and typesetting industry. Lorem Ipsum has been the industry's standard dummy text ever since the 1500s, when an unknown printer took a galley of type and scrambled it to make a type specimen book. It has survived not only five centuries, but also the leap into electronic typesetting, remaining essentially unchanged. It was popularised in the 1960s with the release of Letraset sheets containing Lorem Ipsum passages, and more recently with desktop publishing software like Aldus PageMaker including versions of Lorem Ipsum.\",\n",
       "  'field': 'Publishing',\n",
       "  'content': '\\nLast October, the pioneering life-sciences journal eLife introduced bold changes to its editorial practice — which some researchers applauded as reimagining the purpose of a scientific journal. From 31 January this year, eLife said, it would publish every paper it sent out for peer review: authors would never again receive a rejection after a negative review. Instead, reviewers’ reports would be published alongside the paper, together with a short editorial assessment of the work’s significance and rigour. Authors could then decide whether to revise their paper to address any comments.The change followed an earlier decision by eLife to require that all submissions be posted as preprints online. The cumulative effect was to turn eLife into a producer of public reviews and assessments about online research. It was “relinquishing the traditional journal role of gatekeeper”, editor-in-chief Michael Eisen explained in a press release, and “promoting the evaluation of scientists based on what, rather than where, they publish”.\\n\\n\\n\\n\\n\\nThe transformation sparked enthusiastic praise — and sharp criticism. Some scientists saw it as a long-overdue move to empower authors. Others, including some of eLife’s academic editors (who are mostly senior researchers), weren’t so happy. They worried it would diminish the prestige of a brand they’d worked hard to build, and some wrote privately to Eisen (in letters seen by Nature) to say they would resign if the plan was fully implemented. Amid the pushback, the journal postponed switching fully to its new process.But the dispute only heightened. On 9 March, 29 eLife editors — including the journal’s former editor-in-chief, Randy Schekman — wrote to Damian Pattinson, executive director of the journal’s non-profit publisher, eLife Sciences Publications in Cambridge, UK, asking that Eisen be replaced “immediately”. They added that they had no confidence in Eisen’s leadership, because he had dismissed their concerns and had not considered compromise positions. One of the journal’s five deputy editors had already stepped down from that leadership position, and “significant numbers” of reviewers and senior editors were “standing ready to resign”, they wrote.Eisen, a Howard Hughes Medical Institute (HHMI) investigator who works at the University of California, Berkeley, fired back publicly online, tweeting on 12 March that academics were “lobbying hard to get me fired”. He later deleted the tweet, but told Nature in an interview that “opposition to eLife’s model is driven fundamentally by powerful scientists not wanting to change a system that has benefited them and which they have sculpted to continue to reward them”. In response, Schekman and other authors stated that Eisen’s comments were “not true and do not reflect our legitimate concerns with the new model at eLife”.Eisen says he thinks the dissent is small in scale. He and Pattinson say they did not dismiss concerns, but consulted on changes over two years with editors. “We see big swathes of enthusiasm among the community,” Pattinson adds.The row highlights disagreements among researchers about the function of journals and peer review — and, potentially, about the future of science publishing. Some eLife editors argue that journals should use review to guide filtering and rejection of papers. But supporters of eLife’s changes see benefit in preventing peer review from serving as a prestige-gathering function, in which, by rejecting most of the manuscripts submitted to them, selective journals become perceived as arbiters of what work matters. “We rely too much on journal titles in judging people’s work,” Eisen says. “If we want to fix a bad system, we do have to break some eggs.”What is a journal’s purpose?When eLife was launched in 2012 with the financial backing of three powerful science funders — the Maryland-based HHMI, the UK Wellcome Trust and Germany’s Max Planck Society — it had the aim of being a non-commercial and academic-edited journal that would rival prestigious titles such as Cell, Nature and Science. (Nature’s news team is editorially independent of the journal’s research team.) Besides being open access, another of its key innovations was a collaborative system of peer review, where referees and a handling editor discuss comments together. The journal attracted dozens of working scientists as editors who triage submissions, with hundreds more scientists as reviewing editors.\\n\\nOpen-access journal eLife announces ‘preprint first’ publishing model\\neLife had its eye on bigger changes, however. In 2021, the journal decided to publish only papers that were already preprints. This meant that delays in reviewing wouldn’t hold up an author from sharing their work. But even before Eisen and Pattinson joined, the journal had run a trial with more than 300 manuscripts to test the idea of ditching rejection after review. Its aim was to simply publish papers with reviews, author responses and editorial ratings. “The peer-review process does not need to end with a binary outcome of acceptance or rejection,” the journal wrote in a 2019 analysis of that work.It was this idea that eLife instituted for all papers last October, with the addition that editors would also append a short summary assessment of the paper — giving readers a quick idea of its quality and significance. “This puts power back in the hands of the authors, who can then publish what they have, instead of having to do ever more experiments to satisfy reviewers,” says Eisen. The journal plans to charge US$2,000 for the process of arranging review on submissions; previously, its open-access publication fee was $3,000.Some eLife editors are fully on board with the new system. “It’s the future, where science is going,” says senior eLife editor Panayiota Poirazi, a neuroscientist at the Institute of Molecular Biology and Biotechnology in Heraklion, Crete. Among the journal’s funders, HHMI says it fully supports the new policy. Wellcome says that it supports eLife’s publishing process, and the Max Planck Society told Nature it was still discussing the issue.But other researchers have been openly critical from the start. In November, 47 editors wrote privately to Eisen asking for a rethink or for more time to experiment — perhaps running the new system alongside the conventional one, or creating a second journal in which to publish papers of less significance. They worried about harm to the journal’s collaborative open-reviewing process, and that the quality of papers on the eLife platform would drop. With no possibility of rejection, some authors might choose to ignore reviewer comments or only superficially address them, they wrote — and that knowledge might discourage reviewers from producing detailed critiques. Responding to these concerns, Eisen and Pattinson say that they haven’t seen such problems so far, although the project is in its early days, and that running two systems would reduce the chances of the new model’s success.Editors also argued that removing rejection-after-review meant more pressure on the gatekeeping step that remains in eLife’s system — the triage point where editors choose whether to send out a paper for review. That step had been “opaque and subject to errors in judgment”, their letter stated, an issue that would become more consequential if later negative reviews could no longer lead to rejection. Editors might react by becoming more conservative and decide not to take a chance on manuscripts from less-well-known authors. But Eisen says that, in the new system, sending a preprint for review shouldn’t communicate anything about its quality or importance: the reviews and editorial assessments do that instead. The guidance that editors should follow when deciding what to send for review is “can you generate high-quality and broadly useful public reviews of this paper?”, he says.\\n\\nWill the pandemic permanently alter scientific publishing?\\nIn some countries, hiring and promotion decisions still rely heavily on journal titles in candidates’ publication lists — something that is unlikely to change quickly, the editors added in their letter. They worried that scientists there would stop sending their manuscripts to eLife. Eisen, however, says that problematic reliance on journal titles will continue until there is an alternative system, such as eLife’s.In a further private letter sent to Eisen in January, 30 editors said they would resign once the new policy was fully implemented.The full scale of the discontent is unclear. Although Eisen and Pattinson say they’ve had broad support, Axel Brunger, a structural biologist at Stanford University in California, who initiated the first letter, says he reached out only to his colleagues in structural biology and neuroscience, and that nearly all agreed to sign up. “The concerns are widespread,” he says.One researcher who signed all three letters is neuroscientist Gary Westbrook at the Vollum Institute at Oregon Health & Science University in Portland. He is a vocal critic of what he sees as the monopoly that commercial journals have in science publishing, and says he signed “because I didn’t think the new policy was realistic”. Far from helping eLife as a non-profit, high-quality alternative, he says, he thinks the model will diminish its impact.Reviewing preprintsThe concept of reviewing preprints is catching on in the life sciences. At least two dozen preprint-refereeing initiatives of various sizes have been launched in the past few years. The largest (apart from eLife itself) is Review Commons, launched in December 2019 by the California-based non-profit organization ASAPbio and EMBO Press. The latter runs five journals and is part of the European Molecular Biology Organization in Heidelberg, Germany. As a review-sharing collaboration between 17 journals from 6 publishers, including eLife, Review Commons uses EMBO Press editors to select referees for submissions. Authors can ask Review Commons to post reviews and any further author responses on a preprint server, or they can submit their paper, with reviews and responses, to any journal. More than 2,000 reviews of 540 articles have been run through this system.The idea of ‘journal agnostic’ reviewing is still at proof-of-principle stage, says Bernd Pulverer, EMBO’s head of scientific publications. But he sees merit in having both peer-reviewed preprints and conventional journals, which, he says, provide “real added value in condensing and stratifying information”.That view is shared by Maria Leptin, president of the European Research Council. “If I want to learn about a new field that is not core to my own, then I want a trustworthy source that filters for general interest,” she says. “eLife now does its filtering upstream, in a non-transparent, unaccountable way.”The triage stage shouldn’t be seen as this kind of filter, says Eisen. “People are used to operating in a world where appearance in a journal tells you about the quality, audience or import of a study. This is precisely what we are trying to change,” he says. He argues that the short editorial summary eLife appends to its articles serve as quality guides for readers. They grade the significance of the findings (landmark, fundamental, important, valuable, useful) and assess the strength of their support (exceptional, compelling, convincing, solid, incomplete, inadequate).More consultation?Endocrinologist Mone Zaidi at Icahn School of Medicine at Mount Sinai, New York City, is one of eLife’s four remaining deputy editors and has been trying to mediate the issue. He admires Eisen’s vision, he says, “but any new, transformative change has to be done in a careful manner, with buy-in from the community”.Together with some of his colleagues, he is trying to persuade Eisen to slow down, to avoid mass resignations and to establish milestones to assess the effects the changes would have on the lives of working scientists. “There has to be consultation and risk-mitigation plans,” he says.The deputy editor who stood down, cell biologist Anna Akhmanova at the University of Utrecht in the Netherlands, shares Zaidi’s view. She says she helped to develop the new system, but stepped down as deputy editor because it was being pushed through too fast. “We need evolution, not revolution — many small, careful steps to try to move the community towards what would be a better publishing system,” she says.Eisen says he has already responded to concerns by extending — for a short time — the deadline for the regular reviewing system. “We expect things to evolve in interesting ways as people start to see the advantages and opportunities of not making publishing decisions.”“eLife is doing a big and interesting experiment, however it works out,” says stem-cell biologist Fiona Watt, a former eLife deputy editor who is now EMBO’s director. “My sense as a scientist is that the publishing landscape is changing again.”\\n',\n",
       "  'img_link': 'https://media.nature.com/lw767/magazine-assets/d41586-023-00831-6/d41586-023-00831-6_24636118.jpg'},\n",
       " {'title': 'Sample Title',\n",
       "  'summary': \"Lorem Ipsum is simply dummy text of the printing and typesetting industry. Lorem Ipsum has been the industry's standard dummy text ever since the 1500s, when an unknown printer took a galley of type and scrambled it to make a type specimen book. It has survived not only five centuries, but also the leap into electronic typesetting, remaining essentially unchanged. It was popularised in the 1960s with the release of Letraset sheets containing Lorem Ipsum passages, and more recently with desktop publishing software like Aldus PageMaker including versions of Lorem Ipsum.\",\n",
       "  'field': 'Molecular biology',\n",
       "  'content': '\\n\\n\\n\\n\\n\\n\\nIt is thanks to proteins in the nose called odour receptors that we find the smell of roses pleasant and that of rotting food foul. But little is known about how these receptors detect molecules and translate them into scents.Now, for the first time, researchers have mapped the precise 3D structure of a human odour receptor, taking a step forwards in understanding the most enigmatic of our senses.The study, published in Nature on 15 March1, describes an olfactory receptor called OR51E2 and shows how it ‘recognizes’ the smell of cheese through specific molecular interactions that switch the receptor on.“It’s basically our first picture of any odour molecule interacting with one of our odour receptors,” says study co-author Aashish Manglik, a pharmaceutical chemist at the University of California, San Francisco.Smell mysteryThe human genome contains genes encoding 400 olfactory receptors that can detect many odours. Mammalian odour-receptor genes were first discovered in rats by molecular biologist Richard Axel and biologist Linda Buck in 19912. Researchers in the 1920s estimated that the human nose could discern around 10,000 smells3, but a 2014 study suggests that we can distinguish more than one trillion scents4.Each olfactory receptor can interact with only a subset of smelly molecules called odorants — and a single odorant can activate multiple receptors. It is “like hitting a chord on a piano”, says Manglik. “Instead of hitting a single note, it’s a combination of keys that are hit that gives rise to the perception of a distinct odour.”Beyond this, little is known about exactly how olfactory receptors recognize specific odorants and encode different smells in the brain.Technical challenges in producing mammalian olfactory-receptor proteins using standard laboratory methods have made it difficult to study how these receptors bind to odorants.“Almost all of them really don’t like being in any other kind of cell other than an olfactory sensory neuron,” says Matthew Grubb, a neuroscientist at King’s College London. This means that they cannot be grown or stabilized in commonly used cell lines. “You would have to dissect probably thousands of mice noses” to replicate samples, says Grubb. “It’s just not feasible.”To overcome this, Manglik and his colleagues focused on the OR51E2 receptor, which has functions beyond odorant recognition and is found in gut, kidney and prostate tissues, as well as olfactory neurons.Vinegar and cheeseOR51E2 interacts with two odorant molecules: acetate, which smells like vinegar, and propionate, which has a cheesy odour.The authors purified the receptor and analysed the structure of propionate-bound and unbound OR51E2 using cryo-electron microscopy, an atomic-resolution imaging technique. They also used computer-aided simulations to model how the protein interacts with the odorant at an atomic scale.They found that propionate binds OR51E2 through specific ionic and hydrogen bonds that anchor the propionate’s carboxylic acid to an amino acid, arginine, in a region of the receptor called the binding pocket. Binding to propionate alters the shape of OR51E2, which is what turns the receptor on.These molecular interactions are crucial: the researchers showed that mutations affecting arginine prevented OR51E2 from being activated by propionate.“This is our way of kind of lining up the dominoes to understand how pushing on one side of the receptor turns the other side on,” says Manglik.On the scentScientists have long dreamed of building a molecular atlas of olfactory receptors that maps their chemical structures and which combinations of receptors correspond to particular odours. But “that’s been very much out of reach for the field”, says Manglik.The OR51E2 receptor is specific to propionate and acetate. But “it’s not all about single odorant binding to single receptor molecules”, says Grubb. OR51E2 is a class I olfactory receptor; only around 10% of human olfactory-receptor genes encode this type. The rest code for class II receptors, which typically recognize a broader range of odours. “They may have very different mechanisms,” says Vanessa Ruta, a neuroscientist at the Rockefeller University in New York City.Studying other examples of human odour receptors and elucidating their structures is crucial, she adds. “It will allow for a broader understanding of the different ways that odorants are recognized.”\\n',\n",
       "  'img_link': 'https://media.nature.com/lw767/magazine-assets/d41586-023-00818-3/d41586-023-00818-3_24631076.jpg'},\n",
       " {'title': 'Sample Title',\n",
       "  'summary': \"Lorem Ipsum is simply dummy text of the printing and typesetting industry. Lorem Ipsum has been the industry's standard dummy text ever since the 1500s, when an unknown printer took a galley of type and scrambled it to make a type specimen book. It has survived not only five centuries, but also the leap into electronic typesetting, remaining essentially unchanged. It was popularised in the 1960s with the release of Letraset sheets containing Lorem Ipsum passages, and more recently with desktop publishing software like Aldus PageMaker including versions of Lorem Ipsum.\",\n",
       "  'field': 'Computer science',\n",
       "  'content': \"\\n\\n\\n\\n\\n\\n\\nArtificial intelligence company OpenAI this week unveiled GPT-4, the latest incarnation of the large language model that powers its popular chat bot ChatGPT. The company says GPT-4 contains big improvements — it has already stunned people with its ability to create human-like text and generate images and computer code from almost any a prompt. Researchers say these abilities have the potential to transform science — but some are frustrated that they cannot yet access the technology, its underlying code or information on how it was trained. That raises concern about the technology’s safety and makes it less useful for research, say scientists.One upgrade to GPT-4, released on 14 March, is that it can now handle images as well as text. And as a demonstration of its language prowess, Open AI, which is based in San Francisco, California, says that it passed the US bar legal exam with results in the ninetieth centile, compared with the tenth centile for the previous version of ChatGPT. But the tech is not yet widely accessible — only to paid subscribers to ChatGPT so far have access.\\n\\nChatGPT listed as author on research papers: many scientists disapprove\\n“There’s a waiting list at the moment so you cannot use it right now,” Says Evi-Anne van Dis, a psychologist at the University of Amsterdam. But she has seen demos of GPT-4. “We watched some videos in which they demonstrated capacities and it’s mind blowing,” she says. One instance, she recounts, was a hand-drawn doodle of a website, which GPT-4 used to produce the computer code needed to build that website, as a demonstration of the ability to handle images as inputs.But there is frustration in the science community over OpenAI’s secrecy around how and what data the model was trained, and how it actually works. “All of these closed-source models, they are essentially dead-ends in science,” says Sasha Luccioni, a research scientist specializing in climate at HuggingFace, an open-source-AI community. “They [OpenAI] can keep building upon their research, but for the community at large, it’s a dead end.”‘Red team’ testingAndrew White, a chemical engineer at University of Rochester, has had privileged access to GPT-4 as a ‘red-teamer’: a person paid by OpenAI to test the platform to try and make it do something bad. He has had access to GPT-4 for the past six months, he says. “Early on in the process, it didn’t seem that different,” compared with previous iterations.\\n\\nAbstracts written by ChatGPT fool scientists\\nHe put to the bot queries about what chemical reactions steps were needed to make a compound, predict the reaction yield, and choose a catalyst. “At first, I was actually not that impressed,” White says. “It was really surprising because it would look so realistic, but it would hallucinate an atom here. It would skip a step there,” he adds. But when as part of his red-team work he gave GPT-4 access to scientific papers, things changed dramatically. “It made us realize that these models maybe aren’t so great just alone. But when you start connecting them to the Internet to tools like a retrosynthesis planner, or a calculator, all of a sudden, new kinds of abilities emerge.”And with those abilities come concerns. For instance, could GPT-4 allow dangerous chemicals to be made? With input from people such as White, OpenAI engineers fed back into their model to discourage GPT-4 from creating dangerous, illegal or damaging content, White says.Fake factsOutputting false information is another problem. Luccioni says that models like GPT-4, which exist to predict the next word in a sentence, can’t be cured of coming up with fake facts — known as hallucinating. “You can’t rely on these kinds of models because there’s so much hallucination,” she says. And this remains a concern in the latest version, she says, although OpenAI says that it has improved safety in GPT-4.Without access to the data used for training, OpenAI’s assurances about safety fall short for Luccioni. “You don’t know what the data is. So you can’t improve it. I mean, it’s just completely impossible to do science with a model like this,” she says.\\n\\nHow Nature readers are using ChatGPT\\nThe mystery about how GPT-4 was trained is also a concern for van Dis’s colleague at Amsterdam, psychologist Claudi Bockting. “It’s very hard as a human being to be accountable for something that you cannot oversee,” she says. “One of the concerns is they could be far more biased than for instance, the bias that human beings have by themselves.” Without being able to access the code behind GPT-4 it is impossible to see where the bias might have originated, or to remedy it, Luccioni explains.Ethics discussionsBockting and van Dis are also concerned that increasingly these AI systems are owned by big tech companies. They want to make sure the technology is properly tested and verified by scientists. “This is also an opportunity because collaboration with big tech can of course, speed up processes,” she adds.Van Dis, Bockting and colleagues argued earlier this year for an urgent need to develop a set of ‘living’ guidelines to govern how AI and tools such as GPT-4 are used and developed. They are concerned that any legislation around AI technologies will struggle to keep up with the pace of development. Bockting and van Dis have convened an invitational summit at the University of Amsterdam on 11 April to discuss these concerns, with representatives from organizations including UNESCO’s science-ethics committee, Organisation for Economic Co-operation and Development and the World Economic Forum.Despite the concern, GPT-4 and its future iterations will shake up science, says White. “I think it's actually going to be a huge infrastructure change in science, almost like the internet was a big change,” he says. It won’t replace scientists, he adds, but could help with some tasks. “I think we're going to start realizing we can connect papers, data programmes, libraries that we use and computational work or even robotic experiments.”\\n\",\n",
       "  'img_link': 'https://media.nature.com/lw767/magazine-assets/d41586-023-00816-5/d41586-023-00816-5_24630796.jpg'}]"
      ]
     },
     "execution_count": 30,
     "metadata": {},
     "output_type": "execute_result"
    }
   ],
   "source": [
    "articles"
   ]
  },
  {
   "cell_type": "code",
   "execution_count": 53,
   "id": "af6b2246",
   "metadata": {},
   "outputs": [
    {
     "name": "stdout",
     "output_type": "stream",
     "text": [
      "... wrote sample.html\n"
     ]
    }
   ],
   "source": [
    "results_filename = \"sample.html\"\n",
    "results_template = environment.get_template(\"index.html\")\n",
    "context = {\n",
    "    \"datetime\" : tuple( ((datetime.today() - timedelta(weeks=1)).strftime(\"%d/%m/%Y\"), datetime.today().strftime(\"%d/%m/%Y\")))\n",
    "    \"data\": data,\n",
    "}\n",
    "with open(results_filename, mode=\"w\", encoding=\"utf-8\") as results:\n",
    "    results.write(results_template.render(context))\n",
    "    print(f\"... wrote {results_filename}\")"
   ]
  },
  {
   "cell_type": "code",
   "execution_count": 8,
   "id": "18739eaa",
   "metadata": {},
   "outputs": [
    {
     "data": {
      "text/plain": [
       "'14/03/2023'"
      ]
     },
     "execution_count": 8,
     "metadata": {},
     "output_type": "execute_result"
    }
   ],
   "source": [
    "datetime.today().strftime(\"%d/%m/%Y\")"
   ]
  }
 ],
 "metadata": {
  "kernelspec": {
   "display_name": "newscrape",
   "language": "python",
   "name": "newscrape"
  },
  "language_info": {
   "codemirror_mode": {
    "name": "ipython",
    "version": 3
   },
   "file_extension": ".py",
   "mimetype": "text/x-python",
   "name": "python",
   "nbconvert_exporter": "python",
   "pygments_lexer": "ipython3",
   "version": "3.8.16"
  }
 },
 "nbformat": 4,
 "nbformat_minor": 5
}
